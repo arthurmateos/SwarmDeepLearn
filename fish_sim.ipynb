{
 "cells": [
  {
   "cell_type": "code",
   "execution_count": 1,
   "metadata": {
    "collapsed": true
   },
   "outputs": [],
   "source": [
    "###############################################################################################\n",
    "# fish_sim\n",
    "# Christopher Zhang and Arthur Mateos\n",
    "#\n",
    "# Function: Visually plots fish location data with opencv\n",
    "#\n",
    "###############################################################################################\n",
    "\n",
    "# opencv is needed for this code\n",
    "\n",
    "import cv2\n",
    "import numpy as np\n",
    "import time\n",
    "\n",
    "import pandas as pd\n",
    "import numpy as np\n",
    "import time\n",
    "import matplotlib.pyplot as plt\n"
   ]
  },
  {
   "cell_type": "code",
   "execution_count": 15,
   "metadata": {
    "collapsed": false
   },
   "outputs": [
    {
     "name": "stdout",
     "output_type": "stream",
     "text": [
      "[[ 192.24525721   14.36635916]\n",
      " [ 187.51812661   14.7991591 ]\n",
      " [ 182.45882611   14.97936756]\n",
      " ..., \n",
      " [ 746.92824916  258.59373722]\n",
      " [ 746.87357553  255.00371381]\n",
      " [ 746.64819632  251.52511887]]\n"
     ]
    }
   ],
   "source": [
    "# turns data that is horizontal into vertical np array\n",
    "def load_horizontal_data(readfile):\n",
    "    all_data = pd.read_csv(readfile ,sep = \",\")\n",
    "    print(all_data.shape, all_data.shape[1])\n",
    "    length = all_data.shape[1]\n",
    "    new_data = np.zeros([length,2])\n",
    "    for i in range(length):\n",
    "        if (all_data.iloc[0,i]-1)<0.5:\n",
    "            new_data[i,0] = all_data.iloc[1,i]\n",
    "            new_data[i,1] = all_data.iloc[2,i]\n",
    "    # print(all_data)\n",
    "    print(new_data)\n",
    "    return new_data\n",
    "\n",
    "# loads data into vertical np array\n",
    "# change usecols to be the columns you want to read\n",
    "def load_data(readfile):\n",
    "    all_data = pd.read_csv(readfile, sep=\",\", header=0, usecols = [0,1])  # Jolle's data is 5th and 6th\n",
    "    all_data = parse_data(all_data.values, 1)\n",
    "    return all_data\n",
    "\n",
    "# readfile = '2_bias_10000steps.csv'\n",
    "# readfile = 'JolleFishData/170202_pi11_SOLI_S18_F078_TR.csv'\n",
    "# readfile = 'predict2.csv'\n",
    "readfile = 'predict_window_50.csv'\n",
    "# readfile = 'predict_window_50-2.csv'\n",
    "# readfile = 'PredictedHumanTrajectories/generated.csv'\n",
    "# readfile = 'social-lstm-tf-master/data/eth/univ/pixel_pos.csv'\n",
    "\n",
    "\n",
    "all_data = load_data(readfile)\n",
    "# all_data = load_horizontal_data(readfile)\n",
    "\n",
    "\n",
    "# Data should ideally by on the order of 500 (the data will be rounded to the nearest integer). \n",
    "# If data is normalized to be between 0 and 1, uncomment the code below\n",
    "\n",
    "# stretch_factor = 500\n",
    "# all_data = all_data*500"
   ]
  },
  {
   "cell_type": "code",
   "execution_count": 16,
   "metadata": {
    "collapsed": false
   },
   "outputs": [],
   "source": [
    "frame_rate = 24 # this is the frame rate of the input video\n",
    "speed_up = 5 # this is to speed up the video\n",
    "\n",
    "#Boundaries of the video\n",
    "#Jolle's fish tank: x_max= 775, y_max = 515\n",
    "x_max = 775\n",
    "y_max = 515\n",
    "\n",
    "Frame_one = np.full((y_max, x_max, 4), 255, np.uint8)\n",
    "Frame_two = np.copy(Frame_one)\n",
    "\n",
    "for i in range(len(all_data)):\n",
    "    cv2.circle (Frame_one, (int(round(all_data[i][0])),int(round(all_data[i][1]))), 3, (0,0,0), -1)\n",
    "    time.sleep(1/(frame_rate*speed_up))\n",
    "    cv2.imshow('Animation', Frame_one)\n",
    "    # cv2.circle (Frame_one, (int(round(all_data[i][0])),int(round(all_data[i][1]))), 3, (255,255,255), -1)\n",
    "    cv2.circle (Frame_two, (int(round(all_data[i][0])),int(round(all_data[i][1]))), 2, (100, 200,0), 0)\n",
    "    Frame_one = np.copy(Frame_two)\n",
    "    k= cv2.waitKey(1)\n",
    "    if k == 27: #press escape key to end program\n",
    "        break\n",
    "    \n",
    "cv2.destroyAllWindows()\n"
   ]
  },
  {
   "cell_type": "code",
   "execution_count": null,
   "metadata": {
    "collapsed": true
   },
   "outputs": [],
   "source": []
  }
 ],
 "metadata": {
  "anaconda-cloud": {},
  "kernelspec": {
   "display_name": "Python [default]",
   "language": "python",
   "name": "python3"
  },
  "language_info": {
   "codemirror_mode": {
    "name": "ipython",
    "version": 3
   },
   "file_extension": ".py",
   "mimetype": "text/x-python",
   "name": "python",
   "nbconvert_exporter": "python",
   "pygments_lexer": "ipython3",
   "version": "3.5.3"
  }
 },
 "nbformat": 4,
 "nbformat_minor": 1
}
